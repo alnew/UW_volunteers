{
 "cells": [
  {
   "cell_type": "code",
   "execution_count": 1,
   "metadata": {},
   "outputs": [
    {
     "name": "stdout",
     "output_type": "stream",
     "text": [
      "Complete: Check if forms exist in Tax File\n",
      "Complete: Create Sublists for Forms\n",
      "Complete: Time and Client/Spouse Information\n",
      "Complete: 1040 values for 4b, 4d, 5a\n",
      "Complete: 1040 variables 7-12\n",
      "Complete: mi1040CR variables\n",
      "Complete: miSchedule 1 variables\n",
      "Complete: miSChedule NR Loop1\n",
      "Complete: miSChedule NR Loop2\n",
      "Complete Rules 1-16\n",
      "Complete: Check if forms exist in Tax File\n",
      "Complete: Create Sublists for Forms\n",
      "Complete: Time and Client/Spouse Information\n",
      "Federal 1040 not in this Tax Form, 4d value comes from 1040-SR\n",
      "Complete: 1040 values for 4b, 4d, 5a\n",
      "Complete: 1040 variables 7-12\n",
      "Complete: mi1040CR variables\n",
      "Complete: miSchedule 1 variables\n",
      "Complete: miSChedule NR Loop1\n",
      "Complete: miSChedule NR Loop2\n",
      "Complete Rules 1-16\n"
     ]
    }
   ],
   "source": [
    "%run batching_unitedwaytaxtoolV1.ipynb"
   ]
  }
 ],
 "metadata": {
  "kernelspec": {
   "display_name": "Python 3",
   "language": "python",
   "name": "python3"
  },
  "language_info": {
   "codemirror_mode": {
    "name": "ipython",
    "version": 3
   },
   "file_extension": ".py",
   "mimetype": "text/x-python",
   "name": "python",
   "nbconvert_exporter": "python",
   "pygments_lexer": "ipython3",
   "version": "3.7.6"
  }
 },
 "nbformat": 4,
 "nbformat_minor": 4
}
